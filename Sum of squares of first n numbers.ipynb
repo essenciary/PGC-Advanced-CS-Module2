{
 "cells": [
  {
   "cell_type": "code",
   "execution_count": 1,
   "metadata": {},
   "outputs": [
    {
     "data": {
      "text/plain": [
       "sum_squares_rec (generic function with 1 method)"
      ]
     },
     "execution_count": 1,
     "metadata": {},
     "output_type": "execute_result"
    }
   ],
   "source": [
    "function sum_squares_rec(n::Int)\n",
    "    n == 1 && return 1\n",
    "    return n^2 + sum_squares_rec(n-1)\n",
    "end"
   ]
  },
  {
   "cell_type": "code",
   "execution_count": 2,
   "metadata": {},
   "outputs": [
    {
     "name": "stderr",
     "output_type": "stream",
     "text": [
      "┌ Info: All tests have passed\n",
      "└ @ Main In[2]:7\n"
     ]
    }
   ],
   "source": [
    "using Test \n",
    "\n",
    "for n in rand(1:10_000, 1_000)\n",
    "    @test sum_squares_rec(n) == n*(n+1)*(2n+1)/6\n",
    "end\n",
    "\n",
    "@info \"All tests have passed\""
   ]
  },
  {
   "cell_type": "code",
   "execution_count": null,
   "metadata": {
    "hide_input": false
   },
   "outputs": [],
   "source": []
  }
 ],
 "metadata": {
  "kernelspec": {
   "display_name": "Julia 1.0.0",
   "language": "julia",
   "name": "julia-1.0"
  },
  "language_info": {
   "file_extension": ".jl",
   "mimetype": "application/julia",
   "name": "julia",
   "version": "1.0.0"
  }
 },
 "nbformat": 4,
 "nbformat_minor": 2
}
